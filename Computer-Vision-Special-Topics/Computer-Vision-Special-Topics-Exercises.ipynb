{
  "cells": [
    {
      "cell_type": "markdown",
      "metadata": {
        "id": "FpqV--FqQibM"
      },
      "source": [
        "# Computer Vision - Special Topics \n",
        "\n",
        "This notebook contains exercises for the Computer Vision Special Topics material. "
      ]
    },
    {
      "cell_type": "markdown",
      "metadata": {
        "id": "LSvCSpeEQibR"
      },
      "source": [
        "### Exercise 1 - Transfer Learning\n",
        "\n",
        "**Summary:**\n",
        "In this exercise we will use transfer learning using a neural networks outputs as features for a SVM. \n",
        "\n",
        "**Data**: \n",
        "We will use a subset of the cifar100 dataset (I call it cifar20). You are provided with a pre-trained model on the cifar80 (the other categories in cifar100) that reaches a test \n",
        "accuracy of approximately 63% on the cifar80 dataset. Execute the cells below to prepare the dataset and load the pretrained model (```pretrained_model```). Notice that the pretrained model was trained\n",
        "for a 80-class problem.  \n",
        "\n",
        "**Your Tasks in this exercise:**\n",
        "\n",
        "1. Use transfer learning to train a SVM classifier using the features extracted by the pretrained model \n",
        "    * Extract features using a suitable layer in the pretrained model. Notice you might want to use the ```tf.keras.Model(inputs=, outputs=)``` class to access the outputs of each layer easily. \n",
        "    * Train a SVM classifier (use sklearn) on the features extracted using the training data (```X_train_cifar20```)\n",
        "    * Evaluate the performance of your classifier on the features extracted using the test data (```X_test_cifar20```)\n",
        "    * Discuss your results. \n",
        "\n"
      ]
    },
    {
      "cell_type": "code",
      "execution_count": 3,
      "metadata": {
        "id": "cpPciMpDQibS",
        "outputId": "f7c2df4e-b775-4e70-f5bf-a4a5bd879ea6",
        "colab": {
          "base_uri": "https://localhost:8080/"
        }
      },
      "outputs": [
        {
          "output_type": "stream",
          "name": "stdout",
          "text": [
            "313/313 [==============================] - 300s 955ms/step\n",
            "63/63 [==============================] - 56s 883ms/step\n",
            "Test accuracy: 0.7205\n"
          ]
        }
      ],
      "source": [
        "import tensorflow as tf\n",
        "import numpy as np \n",
        "from sklearn.svm import SVC\n",
        "\n",
        "(X_train, Y_train), (X_test, Y_test) = tf.keras.datasets.cifar100.load_data()\n",
        "X_train = X_train / 255.0\n",
        "X_test = X_test / 255.0\n",
        "\n",
        "cifar20_labels = np.array([60, 72, 65, 97, 18, 47, 58, 51, 84,  2, 90,  6, 38, 35, 70, 89, 24, 86, 36, 32])\n",
        "cifar20_label_mapping = {60 : 0, 72: 1, 65 : 2, 97 : 3, 18 : 4, 47 : 5, 58 : 6, 51 : 7, 84 : 8,  2 : 9, 90 : 10, \n",
        "                          6 : 11, 38 : 12, 35 :13, 70 : 14, 89 : 15, 24 : 16, 86 : 17, 36: 18, 32 : 19}\n",
        "\n",
        "X_train_cifar20 = X_train[np.isin(Y_train, cifar20_labels).ravel(),:,:]\n",
        "Y_train_cifar20 = Y_train[np.isin(Y_train, cifar20_labels).ravel()]\n",
        "\n",
        "X_test_cifar20 = X_test[np.isin(Y_test, cifar20_labels).ravel(),:,:]\n",
        "Y_test_cifar20 = Y_test[np.isin(Y_test, cifar20_labels).ravel()]\n",
        "\n",
        "\n",
        "Y_train_cifar20_remapped = []\n",
        "for y in Y_train_cifar20.ravel():\n",
        "    y_mapped = cifar20_label_mapping[y]\n",
        "    Y_train_cifar20_remapped.append(y_mapped)\n",
        "Y_train_cifar20 = np.array(Y_train_cifar20_remapped)\n",
        "\n",
        "Y_test_cifar20_remapped = []\n",
        "for y in Y_test_cifar20.ravel():\n",
        "    y_mapped = cifar20_label_mapping[y]\n",
        "    Y_test_cifar20_remapped.append(y_mapped)\n",
        "Y_test_cifar20 = np.array(Y_test_cifar20_remapped)\n",
        "\n",
        "pretrained = tf.keras.models.load_model('../data/cifar80_resnet_best.h5')\n",
        "\n",
        "# Extract features using the last convolutional layer of the pretrained model\n",
        "features_model = tf.keras.Model(inputs=pretrained.input, outputs=pretrained.layers[-2].output)\n",
        "\n",
        "X_train_features = features_model.predict(X_train_cifar20)\n",
        "X_test_features = features_model.predict(X_test_cifar20)\n",
        "\n",
        "svm_classifier = SVC(kernel='linear', C=1.0, random_state=42)\n",
        "svm_classifier.fit(X_train_features, Y_train_cifar20)\n",
        "\n",
        "test_accuracy = svm_classifier.score(X_test_features, Y_test_cifar20)\n",
        "print('Test accuracy:', test_accuracy)\n"
      ]
    },
    {
      "cell_type": "code",
      "execution_count": 2,
      "metadata": {
        "id": "Nq64_ApZQibU",
        "outputId": "940b829c-e441-407f-f57a-54ef637b3495",
        "colab": {
          "base_uri": "https://localhost:8080/"
        }
      },
      "outputs": [
        {
          "output_type": "stream",
          "name": "stdout",
          "text": [
            "--2023-04-05 21:14:47--  https://github.com/shegenbart/Jupyter-Exercises/raw/main/data/cifar80_resnet_best.h5\n",
            "Resolving github.com (github.com)... 140.82.114.3\n",
            "Connecting to github.com (github.com)|140.82.114.3|:443... connected.\n",
            "HTTP request sent, awaiting response... 302 Found\n",
            "Location: https://raw.githubusercontent.com/shegenbart/Jupyter-Exercises/main/data/cifar80_resnet_best.h5 [following]\n",
            "--2023-04-05 21:14:47--  https://raw.githubusercontent.com/shegenbart/Jupyter-Exercises/main/data/cifar80_resnet_best.h5\n",
            "Resolving raw.githubusercontent.com (raw.githubusercontent.com)... 185.199.108.133, 185.199.109.133, 185.199.110.133, ...\n",
            "Connecting to raw.githubusercontent.com (raw.githubusercontent.com)|185.199.108.133|:443... connected.\n",
            "HTTP request sent, awaiting response... 200 OK\n",
            "Length: 34199344 (33M) [application/octet-stream]\n",
            "Saving to: ‘../data/cifar80_resnet_best.h5’\n",
            "\n",
            "cifar80_resnet_best 100%[===================>]  32.61M   176MB/s    in 0.2s    \n",
            "\n",
            "2023-04-05 21:14:47 (176 MB/s) - ‘../data/cifar80_resnet_best.h5’ saved [34199344/34199344]\n",
            "\n"
          ]
        }
      ],
      "source": [
        "!wget https://github.com/shegenbart/Jupyter-Exercises/raw/main/data/cifar80_resnet_best.h5 -P ../data\n",
        "pretrained = tf.keras.models.load_model('../data/cifar80_resnet_best.h5')"
      ]
    },
    {
      "cell_type": "markdown",
      "source": [
        "The accuracy of the model on the test set is 0.7205, as printed in the output. This means that the model correctly predicted the class labels for 72.05% of the test images."
      ],
      "metadata": {
        "id": "NGb6Gc9SRpgk"
      }
    },
    {
      "cell_type": "markdown",
      "metadata": {
        "id": "AH454jCAQibX"
      },
      "source": [
        "### Exercise 2 - Fine Tuning \n",
        "\n",
        "**Summary:**\n",
        "In this exercise we will use fine tuning to adapt a neural network to a new dataset. \n",
        "\n",
        "**Data**: \n",
        "We will use a subset of the cifar100 dataset (I call it cifar20). You are provided with a pre-trained model on the cifar80 (the other categories in cifar100) that reaches a test \n",
        "accuracy of approximately 63% on the cifar80 dataset. Execute the cells below to prepare the dataset and load the pretrained model (```pretrained_model```). Notice that the pretrained model was trained\n",
        "for a 80-class problem.  \n",
        "\n",
        "**Your Tasks in this exercise:**\n",
        "\n",
        "1. Fine tune the pre-trained model. \n",
        "    * Create a new model using the functional keras API that uses the pretrained model in a 20-class classification problem. Notice you will need to ignore/remove the final layer and replace it with a suitable layer. \n",
        "    * Train your fine-tuning model:\n",
        "        * Freeze all layers borrowed from the pre-trained model and and fine tune the model\n",
        "        * Fine-tune all layers of the new model \n",
        "        * Compare both models. \n",
        "    * Plot and discuss your results. \n",
        "\n"
      ]
    },
    {
      "cell_type": "code",
      "execution_count": 4,
      "metadata": {
        "id": "Vz0s1097QibX",
        "outputId": "be37543b-5627-4593-a205-b113f81a8480",
        "colab": {
          "base_uri": "https://localhost:8080/",
          "height": 1000
        }
      },
      "outputs": [
        {
          "output_type": "stream",
          "name": "stdout",
          "text": [
            "--2023-04-05 21:22:09--  https://github.com/shegenbart/Jupyter-Exercises/raw/main/data/cifar80_resnet_best.h5\n",
            "Resolving github.com (github.com)... 140.82.113.3\n",
            "Connecting to github.com (github.com)|140.82.113.3|:443... connected.\n",
            "HTTP request sent, awaiting response... 302 Found\n",
            "Location: https://raw.githubusercontent.com/shegenbart/Jupyter-Exercises/main/data/cifar80_resnet_best.h5 [following]\n",
            "--2023-04-05 21:22:09--  https://raw.githubusercontent.com/shegenbart/Jupyter-Exercises/main/data/cifar80_resnet_best.h5\n",
            "Resolving raw.githubusercontent.com (raw.githubusercontent.com)... 185.199.108.133, 185.199.110.133, 185.199.109.133, ...\n",
            "Connecting to raw.githubusercontent.com (raw.githubusercontent.com)|185.199.108.133|:443... connected.\n",
            "HTTP request sent, awaiting response... 200 OK\n",
            "Length: 34199344 (33M) [application/octet-stream]\n",
            "Saving to: ‘../data/cifar80_resnet_best.h5.1’\n",
            "\n",
            "cifar80_resnet_best 100%[===================>]  32.61M   181MB/s    in 0.2s    \n",
            "\n",
            "2023-04-05 21:22:09 (181 MB/s) - ‘../data/cifar80_resnet_best.h5.1’ saved [34199344/34199344]\n",
            "\n",
            "313/313 [==============================] - 372s 1s/step - loss: 2.8909 - accuracy: 0.2298 - val_loss: 2.8059 - val_accuracy: 0.3520\n"
          ]
        },
        {
          "output_type": "stream",
          "name": "stderr",
          "text": [
            "WARNING:absl:`lr` is deprecated in Keras optimizer, please use `learning_rate` or use the legacy optimizer, e.g.,tf.keras.optimizers.legacy.Adam.\n"
          ]
        },
        {
          "output_type": "stream",
          "name": "stdout",
          "text": [
            "313/313 [==============================] - 1171s 4s/step - loss: 2.6333 - accuracy: 0.4423 - val_loss: 2.5724 - val_accuracy: 0.4190\n"
          ]
        },
        {
          "output_type": "display_data",
          "data": {
            "text/plain": [
              "<Figure size 640x480 with 1 Axes>"
            ],
            "image/png": "[encoded data removed]"
          },
          "metadata": {}
        },
        {
          "output_type": "display_data",
          "data": {
            "text/plain": [
              "<Figure size 640x480 with 1 Axes>"
            ],
            "image/png": "[encoded data removed]"
          },
          "metadata": {}
        }
      ],
      "source": [
        "!wget https://github.com/shegenbart/Jupyter-Exercises/raw/main/data/cifar80_resnet_best.h5 -P ../data\n",
        "pretrained_model = tf.keras.models.load_model('../data/cifar80_resnet_best.h5')\n",
        "\n",
        "import tensorflow as tf\n",
        "import numpy as np \n",
        "import matplotlib.pyplot as plt\n",
        "\n",
        "(X_train, Y_train), (X_test, Y_test) = tf.keras.datasets.cifar100.load_data()\n",
        "X_train = X_train / 255.0\n",
        "X_test = X_test / 255.0\n",
        "\n",
        "cifar20_labels = np.array([60, 72, 65, 97, 18, 47, 58, 51, 84,  2, 90,  6, 38, 35, 70, 89, 24, 86, 36, 32])\n",
        "cifar20_label_mapping = {60 : 0, 72: 1, 65 : 2, 97 : 3, 18 : 4, 47 : 5, 58 : 6, 51 : 7, 84 : 8,  2 : 9, 90 : 10, \n",
        "                          6 : 11, 38 : 12, 35 :13, 70 : 14, 89 : 15, 24 : 16, 86 : 17, 36: 18, 32 : 19}\n",
        "\n",
        "X_train_cifar20 = X_train[np.isin(Y_train, cifar20_labels).ravel(),:,:]\n",
        "Y_train_cifar20 = Y_train[np.isin(Y_train, cifar20_labels).ravel()]\n",
        "\n",
        "X_test_cifar20 = X_test[np.isin(Y_test, cifar20_labels).ravel(),:,:]\n",
        "Y_test_cifar20 = Y_test[np.isin(Y_test, cifar20_labels).ravel()]\n",
        "\n",
        "Y_train_cifar20_remapped = []\n",
        "for y in Y_train_cifar20.ravel():\n",
        "    y_mapped = cifar20_label_mapping[y]\n",
        "    Y_train_cifar20_remapped.append(y_mapped)\n",
        "Y_train_cifar20 = np.array(Y_train_cifar20_remapped)\n",
        "\n",
        "Y_test_cifar20_remapped = []\n",
        "for y in Y_test_cifar20.ravel():\n",
        "    y_mapped = cifar20_label_mapping[y]\n",
        "    Y_test_cifar20_remapped.append(y_mapped)\n",
        "Y_test_cifar20 = np.array(Y_test_cifar20_remapped)\n",
        "\n",
        "Y_train_cifar_20_one_hot = tf.keras.utils.to_categorical(Y_train_cifar20_remapped)\n",
        "Y_test_cifar_20_one_hot = tf.keras.utils.to_categorical(Y_test_cifar20_remapped)\n",
        "\n",
        "# Remove final layer of pre-trained model\n",
        "pretrained_model.layers.pop()\n",
        "# Freeze all layers of the pre-trained model\n",
        "for layer in pretrained_model.layers:\n",
        "    layer.trainable = False\n",
        "\n",
        "# Create new model using the functional keras API\n",
        "inputs = tf.keras.Input(shape=(32,32,3))\n",
        "x = pretrained_model(inputs)\n",
        "outputs = tf.keras.layers.Dense(20, activation='softmax')(x)\n",
        "model = tf.keras.Model(inputs=inputs, outputs=outputs)\n",
        "\n",
        "# Compile model with frozen layers\n",
        "model.compile(optimizer='adam',\n",
        "              loss='categorical_crossentropy',\n",
        "              metrics=['accuracy'])\n",
        "\n",
        "# Train model with frozen layers for a few epochs\n",
        "model.fit(X_train_cifar20, Y_train_cifar_20_one_hot, epochs=1, batch_size=32, validation_data=(X_test_cifar20, Y_test_cifar_20_one_hot))\n",
        "\n",
        "# Unfreeze all layers of the model\n",
        "for layer in model.layers:\n",
        "    layer.trainable = True\n",
        "\n",
        "# Compile model with all layers unfrozen\n",
        "model.compile(optimizer=tf.keras.optimizers.Adam(lr=1e-5),\n",
        "              loss='categorical_crossentropy',\n",
        "              metrics=['accuracy'])\n",
        "\n",
        "# Train model with all layers unfrozen for more epochs\n",
        "model.fit(X_train_cifar20, Y_train_cifar_20_one_hot, epochs=1, batch_size=32, validation_data=(X_test_cifar20, Y_test_cifar_20_one_hot))\n",
        "\n",
        "\n",
        "# Plot training & validation accuracy values\n",
        "plt.plot(model.history.history['accuracy'])\n",
        "plt.plot(model.history.history['val_accuracy'])\n",
        "plt.title('Model accuracy')\n",
        "plt.ylabel('Accuracy')\n",
        "plt.xlabel('Epoch')\n",
        "plt.legend(['Train', 'Test'], loc='upper left')\n",
        "plt.show()\n",
        "\n",
        "# Plot training & validation loss values\n",
        "plt.plot(model.history.history['loss'])\n",
        "plt.plot(model.history.history['val_loss'])\n",
        "plt.title('Model loss')\n",
        "plt.ylabel('Loss')\n",
        "plt.xlabel('Epoch')\n",
        "plt.legend(['Train', 'Test'], loc='upper left')\n",
        "plt.show()\n",
        "\n"
      ]
    },
    {
      "cell_type": "markdown",
      "metadata": {
        "id": "URZqPEDpQibZ"
      },
      "source": [
        "### Exercise 3 - Regularization Techniques\n",
        "\n",
        "**Summary:**\n",
        "In this exercise we study different regularization techniques used to train neural networks. \n",
        "\n",
        "**Data**: \n",
        "In this exercise we will use the cifar10 dataset. I have provided you with a cell to load and preprocess the dataset below. I also provided you with a very simple base-CNN\n",
        "(```cnn_base```).\n",
        "\n",
        "**Your Tasks in this exercise:**\n",
        "\n",
        "1. Train and evaluate the base-CNN \n",
        "    * Train the base-CNN on the training portion of the dataset\n",
        "    * Make sure that the test part of the data is used after each epoch to predict the test accuracy \n",
        "    * Record the history of your training (```hist = cnn_base.fit(...)```) and plot your results after training is finished. You can access the training accuracy values\n",
        "    via ```hist.history['acc']``` and the test accuracy values via ```hist.history['val_acc']```.\n",
        "    * Explain the results. \n",
        "\n",
        "2. Train and evaluate the base-CNN using L1-Regularization\n",
        "    * Create a new cell and copy the base-CNN. Add a kernel regularizer and bias regularizer using L1-Regularization (where does it make sense?)\n",
        "    * Train the L1-CNN, plot the results and compare the results to the base-CNN. \n",
        "    * Explain the results. \n",
        "\n",
        "3. Train and evaluate the base-CNN using L2-Regularization\n",
        "    * Create a new cell and copy the base-CNN. Add a kernel regularizer and bias regularizer using L2-Regularization (where does it make sense?)\n",
        "    * Train the L2-CNN, plot the results and compare the results to the base-CNN. \n",
        "    * Explain the results. \n",
        "\n",
        "4. Train and evaluate the base-CNN using Dropout\n",
        "    * Create a new cell and copy the base-CNN. Add Dropout layers (where does it make sense?)\n",
        "    * Train the Dropout-CNN, plot the results and compare the results to the base-CNN. \n",
        "    * Explain the results. "
      ]
    },
    {
      "cell_type": "code",
      "execution_count": 5,
      "metadata": {
        "id": "3_ooM2QsQibb",
        "outputId": "bfdda078-aaf9-4417-80d2-3284c1551f0b",
        "colab": {
          "base_uri": "https://localhost:8080/"
        }
      },
      "outputs": [
        {
          "output_type": "stream",
          "name": "stdout",
          "text": [
            "Downloading data from https://www.cs.toronto.edu/~kriz/cifar-10-python.tar.gz\n",
            "170498071/170498071 [==============================] - 3s 0us/step\n"
          ]
        }
      ],
      "source": [
        "(x_train, y_train), (x_test, y_test) = tf.keras.datasets.cifar10.load_data()\n",
        "x_train = x_train / 255.0\n",
        "x_test = x_test / 255.0 \n",
        "\n",
        "y_test = tf.keras.utils.to_categorical(y_test, 10)\n",
        "y_train = tf.keras.utils.to_categorical(y_train, 10)"
      ]
    },
    {
      "cell_type": "code",
      "execution_count": null,
      "metadata": {
        "id": "cnrgkqGzQibb",
        "outputId": "6072860d-b707-4c68-a727-c57076f23cbc",
        "colab": {
          "base_uri": "https://localhost:8080/"
        }
      },
      "outputs": [
        {
          "output_type": "stream",
          "name": "stdout",
          "text": [
            "Epoch 1/2\n",
            " 890/1563 [================>.............] - ETA: 2:41 - loss: 1.5449 - accuracy: 0.4427"
          ]
        }
      ],
      "source": [
        "# Use this simple CNN as your basis for adding regularization.\n",
        "\n",
        "import tensorflow as tf\n",
        "from tensorflow.keras.layers import Conv2D, InputLayer, MaxPooling2D, GlobalAveragePooling2D, Softmax, Dense, Flatten, Dropout\n",
        "from tensorflow.keras.regularizers import l1\n",
        "import matplotlib.pyplot as plt\n",
        "\n",
        "cnn_base = tf.keras.Sequential()\n",
        "cnn_base.add(InputLayer(input_shape=(32,32,3)))\n",
        "cnn_base.add(Conv2D(32, kernel_size=(3,3), activation='relu'))\n",
        "cnn_base.add(MaxPooling2D(pool_size=(2,2), strides=(1,1)))\n",
        "cnn_base.add(Conv2D(32, kernel_size=(3,3), activation='relu'))\n",
        "cnn_base.add(MaxPooling2D(pool_size=(2,2), strides=(1,1)))\n",
        "cnn_base.add(Conv2D(32, kernel_size=(3,3), activation='relu'))\n",
        "cnn_base.add(MaxPooling2D(pool_size=(2,2), strides=(1,1)))\n",
        "cnn_base.add(Flatten())\n",
        "cnn_base.add(Dense(256, activation='relu'))\n",
        "cnn_base.add(Dense(10, activation='softmax'))\n",
        "\n",
        "\n",
        "cnn_base.compile(optimizer='adam', loss='categorical_crossentropy', metrics=['accuracy'])\n",
        "\n",
        "hist = cnn_base.fit(x_train, y_train, epochs=2, validation_data=(x_test, y_test))\n",
        "\n",
        "train_acc = hist.history['accuracy']\n",
        "test_acc = hist.history['val_accuracy']\n",
        "\n",
        "plt.plot(train_acc)\n",
        "plt.plot(test_acc)\n",
        "plt.legend(['train', 'test'])\n",
        "plt.title('Base-CNN Accuracy')\n",
        "plt.xlabel('Epoch')\n",
        "plt.ylabel('Accuracy')\n",
        "plt.show()\n",
        "\n",
        "l1_cnn = tf.keras.Sequential()\n",
        "l1_cnn.add(InputLayer(input_shape=(32,32,3)))\n",
        "l1_cnn.add(Conv2D(32, kernel_size=(3,3), activation='relu', kernel_regularizer=l1(0.001)))\n",
        "l1_cnn.add(MaxPooling2D(pool_size=(2,2), strides=(1,1)))\n",
        "l1_cnn.add(Conv2D(32, kernel_size=(3,3), activation='relu', kernel_regularizer=l1(0.001)))\n",
        "l1_cnn.add(MaxPooling2D(pool_size=(2,2), strides=(1,1)))\n",
        "l1_cnn.add(Conv2D(32, kernel_size=(3,3), activation='relu', kernel_regularizer=l1(0.001)))\n",
        "l1_cnn.add(MaxPooling2D(pool_size=(2,2), strides=(1,1)))\n",
        "l1_cnn.add(Flatten())\n",
        "l1_cnn.add(Dense(256, activation='relu', kernel_regularizer=l1(0.001)))\n",
        "l1_cnn.add(Dense(10, activation='softmax'))\n",
        "\n",
        "l1_cnn.compile(optimizer='adam', loss='categorical_crossentropy', metrics=['accuracy'])\n",
        "\n",
        "hist = l1_cnn.fit(x_train, y_train, epochs=2, validation_data=(x_test, y_test))\n",
        "\n",
        "train_acc = hist.history['accuracy']\n",
        "test_acc = hist.history['val_accuracy']\n",
        "\n",
        "plt.plot(train_acc)\n",
        "plt.plot(test_acc)\n",
        "plt.legend(['train', 'test'])\n",
        "plt.title('L1-CNN Accuracy')\n",
        "plt.xlabel('Epoch')\n",
        "plt.ylabel('Accuracy')\n",
        "plt.show()\n",
        "\n"
      ]
    },
    {
      "cell_type": "code",
      "source": [],
      "metadata": {
        "id": "H7g06vukisAP"
      },
      "execution_count": null,
      "outputs": []
    },
    {
      "cell_type": "markdown",
      "metadata": {
        "id": "z-W2eONdQibb"
      },
      "source": [
        "### Exercise 4 - Residual Learning\n",
        "\n",
        "**Summary:**\n",
        "In this exercise we will create two neural networks that take an image with shape $(32,32,3)$ as input and provide us with the same image as output $(32,32,3)$. Consequently we try to learn a mapping $\\mathcal{H}(x) := x$, which is known as the identity function. The identity function is a trivial function in mathematics but can be hard to learn using convolution operations. \n",
        "\n",
        "**Data**: \n",
        "In this exercise we will use the cifar100 dataset. I have provided you with a cell to load and preprocess the dataset below. \n",
        "\n",
        "**Your Tasks in this exercise:**\n",
        "\n",
        "1. ConvNet\n",
        "    * Create a convolutional neural network (with 2 BatchNormalization and Conv2D layers, using only InputLayer, Conv2D and BatchNormalization as layers), which accepts images of shape $(32,32,3)$ and returns an image of shape $(32,32,3)$. Notice: You will have to use the functional keras API to do so (see slides).\n",
        "    * Train your neural network (use only 2 epochs) with a suitable loss function.  \n",
        "2. ResNet\n",
        "    * Create a convolutional neural network using two identity blocks of a ResNet, which accepts images of shape $(32,32,3)$ and returns an image of shape $(32,32,3)$.\n",
        "    * Train your neural network (using only 2 epochs) with a suitable loss function. \n",
        "3. Analyze your Results\n",
        "    * Use the ```evaluate()``` function of your keras model to predict the MSE of both trained nets.\n",
        "    * Use some images from ```X_test``` and feed them into your models. Visualize the results. \n",
        "    * Compare the results, explain the difference between the results, explain what happened. \n",
        "\n",
        "\n",
        "\n",
        "\n"
      ]
    },
    {
      "cell_type": "code",
      "execution_count": null,
      "metadata": {
        "id": "dTTp0XXsQibc"
      },
      "outputs": [],
      "source": [
        "(X_train, Y_train), (X_test, Y_test) = tf.keras.datasets.cifar100.load_data(label_mode=\"fine\")\n",
        "X_train = X_train / 255.0\n",
        "X_test = X_test / 255.0"
      ]
    },
    {
      "cell_type": "code",
      "source": [
        "from tensorflow.keras.layers import Input, Conv2D, BatchNormalization\n",
        "from tensorflow.keras.models import Model\n",
        "\n",
        "from tensorflow.keras.layers import Input, Conv2D, BatchNormalization, Add, Activation\n",
        "from tensorflow.keras.models import Model\n",
        "import matplotlib.pyplot as plt\n",
        "\n",
        "input_layer = Input(shape=(32, 32, 3))\n",
        "conv1 = Conv2D(filters=64, kernel_size=(3, 3), padding='same', activation='relu')(input_layer)\n",
        "bn1 = BatchNormalization()(conv1)\n",
        "conv2 = Conv2D(filters=3, kernel_size=(3, 3), padding='same', activation='relu')(bn1)\n",
        "bn2 = BatchNormalization()(conv2)\n",
        "\n",
        "convnet_model = Model(inputs=input_layer, outputs=bn2)\n",
        "convnet_model.compile(optimizer='adam', loss='mse')\n",
        "\n",
        "convnet_model.fit(X_train, X_train, epochs=2, batch_size=32, validation_data=(X_test, X_test))\n",
        "\n",
        "def identity_block(X, filters):\n",
        "    F1, F2 = filters\n",
        "    \n",
        "    X_shortcut = X\n",
        "    \n",
        "    X = Conv2D(filters=F1, kernel_size=(3,3), strides=(1,1), padding='same')(X)\n",
        "    X = BatchNormalization()(X)\n",
        "    X = Activation('relu')(X)\n",
        "    \n",
        "    X = Conv2D(filters=F2, kernel_size=(3,3), strides=(1,1), padding='same')(X)\n",
        "    X = BatchNormalization()(X)\n",
        "    \n",
        "    X = Add()([X, X_shortcut])\n",
        "    X = Activation('relu')(X)\n",
        "    \n",
        "    return X\n",
        "\n",
        "input_layer = Input(shape=(32, 32, 3))\n",
        "X = Conv2D(filters=64, kernel_size=(3,3), strides=(1,1), padding='same')(input_layer)\n",
        "X = BatchNormalization()(X)\n",
        "X = Activation('relu')(X)\n",
        "\n",
        "X = identity_block(X, filters=[64,64])\n",
        "X = identity_block(X, filters=[64,64])\n",
        "\n",
        "X = Conv2D(filters=3, kernel_size=(3,3), strides=(1,1), padding='same')(X)\n",
        "X = BatchNormalization()(X)\n",
        "\n",
        "resnet_model = Model(inputs=input_layer, outputs=X)\n",
        "resnet_model.compile(optimizer='adam', loss='mse')\n",
        "\n",
        "resnet_model.fit(X_train, X_train, epochs=2, batch_size=32, validation_data=(X_test, X_test))\n",
        "\n",
        "convnet_mse = convnet.evaluate(X_test, X_test, verbose=0)\n",
        "resnet_mse = resnet.evaluate(X_test, X_test, verbose=0)\n",
        "\n",
        "print(\"ConvNet MSE:\", convnet_mse)\n",
        "print(\"ResNet MSE:\", resnet_mse)\n",
        "\n",
        "# Select 5 random images from X_test\n",
        "indices = np.random.choice(range(len(X_test)), 5)\n",
        "\n",
        "# Plot the original images and their corresponding outputs\n",
        "fig, axes = plt.subplots(nrows=3, ncols=5, figsize=(15, 9))\n",
        "\n",
        "for i, idx in enumerate(indices):\n",
        "    axes[0,i].imshow(X_test[idx])\n",
        "    axes[0,i].axis('off')\n",
        "    axes[0,i].set_title('Input')\n",
        "    \n",
        "    axes[1,i].imshow(convnet.predict(X_test[idx][np.newaxis,...])[0])\n",
        "    axes[1,i].axis('off')\n",
        "    axes[1,i].set_title('ConvNet Output')\n",
        "    \n",
        "    axes[2,i].imshow(resnet.predict(X_test[idx][np.newaxis,...])[0])\n",
        "    axes[2,i].axis('off')\n",
        "    axes[2,i].set_title('ResNet Output')\n",
        "    \n",
        "plt.show()\n",
        "\n"
      ],
      "metadata": {
        "id": "2ifMnCVPfbVp"
      },
      "execution_count": null,
      "outputs": []
    }
  ],
  "metadata": {
    "celltoolbar": "Edit Metadata",
    "kernelspec": {
      "display_name": "Python 3 (ipykernel)",
      "language": "python",
      "name": "python3"
    },
    "language_info": {
      "codemirror_mode": {
        "name": "ipython",
        "version": 3
      },
      "file_extension": ".py",
      "mimetype": "text/x-python",
      "name": "python",
      "nbconvert_exporter": "python",
      "pygments_lexer": "ipython3",
      "version": "3.8.12"
    },
    "colab": {
      "provenance": []
    }
  },
  "nbformat": 4,
  "nbformat_minor": 0
}